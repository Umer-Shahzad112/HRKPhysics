{
 "cells": [
  {
   "cell_type": "code",
   "execution_count": 11,
   "metadata": {},
   "outputs": [],
   "source": [
    "import pandas as pd\n",
    "import numpy as np\n",
    "import matplotlib.pyplot as plt"
   ]
  },
  {
   "cell_type": "code",
   "execution_count": 12,
   "metadata": {},
   "outputs": [],
   "source": [
    "m = 2.5\n",
    "g = 9.8\n",
    "b = .5\n",
    "theta = 40\n",
    "v = 150\n",
    "dt = .001\n",
    "vx = v*np.cos(np.pi/180*theta)\n",
    "vy = v*np.sin(np.pi/180*theta)\n",
    "x = 0\n",
    "y = 0\n",
    "t = 0\n",
    "time = [t]\n",
    "height = [y]\n",
    "yvelocity = [vy]\n",
    "distance = [x]\n",
    "xvelocity = [vx]"
   ]
  },
  {
   "cell_type": "code",
   "execution_count": 13,
   "metadata": {},
   "outputs": [],
   "source": [
    "def fx():\n",
    "    global x, vx\n",
    "    x = x +vx*dt\n",
    "    vx = vx - (b/m)*vx*dt\n",
    "    if vx<=0:\n",
    "        vx =0\n",
    "\n",
    "def fy():\n",
    "    global vy , y\n",
    "    y = y + vy*dt\n",
    "    vy = vy +(-g-(b/m)*vy)*dt"
   ]
  },
  {
   "cell_type": "code",
   "execution_count": 14,
   "metadata": {},
   "outputs": [],
   "source": [
    "while True:\n",
    "    fx()\n",
    "    fy()\n",
    "    t = t +dt\n",
    "    if y<=0:\n",
    "        break\n",
    "    time.append(t)\n",
    "    height.append(y)\n",
    "    yvelocity.append(vy)\n",
    "    distance.append(x)\n",
    "    xvelocity.append(vx)"
   ]
  },
  {
   "cell_type": "code",
   "execution_count": null,
   "metadata": {},
   "outputs": [],
   "source": []
  },
  {
   "cell_type": "code",
   "execution_count": 15,
   "metadata": {},
   "outputs": [],
   "source": [
    "time_axis = np.array(time).round(3)\n",
    "height_axis = np.array(height).round(2)\n",
    "velocity_xaxis = np.array(xvelocity).round(2)\n",
    "velocity_yaxis = np.array(yvelocity).round(2)\n",
    "distance_axis = np.array(distance).round(2)"
   ]
  },
  {
   "cell_type": "code",
   "execution_count": 16,
   "metadata": {},
   "outputs": [
    {
     "data": {
      "text/plain": [
       "<matplotlib.legend.Legend at 0xf532bc9b20>"
      ]
     },
     "execution_count": 16,
     "metadata": {},
     "output_type": "execute_result"
    },
    {
     "data": {
      "image/png": "[encoded data removed]",
      "text/plain": [
       "<Figure size 432x288 with 2 Axes>"
      ]
     },
     "metadata": {
      "needs_background": "light"
     },
     "output_type": "display_data"
    }
   ],
   "source": [
    "figure, axis = plt.subplots(1,2)\n",
    "\n",
    "axis[0].plot(time_axis, velocity_xaxis,label = 'Vx')\n",
    "axis[0].plot(time_axis, velocity_yaxis, label= 'Vy')\n",
    "axis[0].set_ylabel('Velocity')\n",
    "axis[1].plot(distance_axis,height_axis)\n",
    "axis[1].set_title('Projectile')\n",
    "axis[0].legend()"
   ]
  },
  {
   "cell_type": "code",
   "execution_count": 17,
   "metadata": {},
   "outputs": [],
   "source": [
    "# time.clear()\n",
    "# height.clear()\n",
    "# yvelocity.clear()\n",
    "# distance.clear()\n",
    "# xvelocity.clear()\n",
    "# time"
   ]
  },
  {
   "cell_type": "code",
   "execution_count": 18,
   "metadata": {},
   "outputs": [],
   "source": [
    "nn = 0\n",
    "for i in time_axis:\n",
    "    if i%.5 == 0:\n",
    "        nn= nn+1\n",
    "        tt = np.where(time_axis == i)\n",
    "        n = tt[0][0]\n",
    "        time.append(time_axis[n])\n",
    "        height.append(height_axis[n])\n",
    "        distance.append(distance_axis[n])\n",
    "        yvelocity.append(velocity_yaxis[n])\n",
    "        xvelocity.append(velocity_xaxis[n])"
   ]
  },
  {
   "cell_type": "code",
   "execution_count": 19,
   "metadata": {},
   "outputs": [
    {
     "data": {
      "text/html": [
       "<div>\n",
       "<style scoped>\n",
       "    .dataframe tbody tr th:only-of-type {\n",
       "        vertical-align: middle;\n",
       "    }\n",
       "\n",
       "    .dataframe tbody tr th {\n",
       "        vertical-align: top;\n",
       "    }\n",
       "\n",
       "    .dataframe thead th {\n",
       "        text-align: right;\n",
       "    }\n",
       "</style>\n",
       "<table border=\"1\" class=\"dataframe\">\n",
       "  <thead>\n",
       "    <tr style=\"text-align: right;\">\n",
       "      <th></th>\n",
       "      <th>Time</th>\n",
       "      <th>Height</th>\n",
       "      <th>Distance</th>\n",
       "      <th>Vx</th>\n",
       "      <th>Vy</th>\n",
       "    </tr>\n",
       "  </thead>\n",
       "  <tbody>\n",
       "    <tr>\n",
       "      <th>0</th>\n",
       "      <td>0.000</td>\n",
       "      <td>0.000000</td>\n",
       "      <td>0.000000</td>\n",
       "      <td>96.418141</td>\n",
       "      <td>114.906666</td>\n",
       "    </tr>\n",
       "    <tr>\n",
       "      <th>1</th>\n",
       "      <td>0.001</td>\n",
       "      <td>0.096418</td>\n",
       "      <td>0.114907</td>\n",
       "      <td>96.389058</td>\n",
       "      <td>114.883685</td>\n",
       "    </tr>\n",
       "    <tr>\n",
       "      <th>2</th>\n",
       "      <td>0.002</td>\n",
       "      <td>0.192807</td>\n",
       "      <td>0.229790</td>\n",
       "      <td>96.359980</td>\n",
       "      <td>114.860708</td>\n",
       "    </tr>\n",
       "    <tr>\n",
       "      <th>3</th>\n",
       "      <td>0.003</td>\n",
       "      <td>0.289167</td>\n",
       "      <td>0.344651</td>\n",
       "      <td>96.330908</td>\n",
       "      <td>114.837736</td>\n",
       "    </tr>\n",
       "    <tr>\n",
       "      <th>4</th>\n",
       "      <td>0.004</td>\n",
       "      <td>0.385498</td>\n",
       "      <td>0.459489</td>\n",
       "      <td>96.301842</td>\n",
       "      <td>114.814769</td>\n",
       "    </tr>\n",
       "    <tr>\n",
       "      <th>...</th>\n",
       "      <td>...</td>\n",
       "      <td>...</td>\n",
       "      <td>...</td>\n",
       "      <td>...</td>\n",
       "      <td>...</td>\n",
       "    </tr>\n",
       "    <tr>\n",
       "      <th>13946</th>\n",
       "      <td>11.500</td>\n",
       "      <td>90.710000</td>\n",
       "      <td>516.940000</td>\n",
       "      <td>-34.420000</td>\n",
       "      <td>11.520000</td>\n",
       "    </tr>\n",
       "    <tr>\n",
       "      <th>13947</th>\n",
       "      <td>12.000</td>\n",
       "      <td>73.150000</td>\n",
       "      <td>522.430000</td>\n",
       "      <td>-35.810000</td>\n",
       "      <td>10.420000</td>\n",
       "    </tr>\n",
       "    <tr>\n",
       "      <th>13948</th>\n",
       "      <td>12.500</td>\n",
       "      <td>54.920000</td>\n",
       "      <td>527.380000</td>\n",
       "      <td>-37.070000</td>\n",
       "      <td>9.430000</td>\n",
       "    </tr>\n",
       "    <tr>\n",
       "      <th>13949</th>\n",
       "      <td>13.000</td>\n",
       "      <td>36.100000</td>\n",
       "      <td>531.870000</td>\n",
       "      <td>-38.200000</td>\n",
       "      <td>8.530000</td>\n",
       "    </tr>\n",
       "    <tr>\n",
       "      <th>13950</th>\n",
       "      <td>13.500</td>\n",
       "      <td>16.740000</td>\n",
       "      <td>535.930000</td>\n",
       "      <td>-39.230000</td>\n",
       "      <td>7.720000</td>\n",
       "    </tr>\n",
       "  </tbody>\n",
       "</table>\n",
       "<p>13951 rows × 5 columns</p>\n",
       "</div>"
      ],
      "text/plain": [
       "         Time     Height    Distance         Vx          Vy\n",
       "0       0.000   0.000000    0.000000  96.418141  114.906666\n",
       "1       0.001   0.096418    0.114907  96.389058  114.883685\n",
       "2       0.002   0.192807    0.229790  96.359980  114.860708\n",
       "3       0.003   0.289167    0.344651  96.330908  114.837736\n",
       "4       0.004   0.385498    0.459489  96.301842  114.814769\n",
       "...       ...        ...         ...        ...         ...\n",
       "13946  11.500  90.710000  516.940000 -34.420000   11.520000\n",
       "13947  12.000  73.150000  522.430000 -35.810000   10.420000\n",
       "13948  12.500  54.920000  527.380000 -37.070000    9.430000\n",
       "13949  13.000  36.100000  531.870000 -38.200000    8.530000\n",
       "13950  13.500  16.740000  535.930000 -39.230000    7.720000\n",
       "\n",
       "[13951 rows x 5 columns]"
      ]
     },
     "execution_count": 19,
     "metadata": {},
     "output_type": "execute_result"
    }
   ],
   "source": [
    "df = pd.DataFrame(np.column_stack([time, height, distance, yvelocity, xvelocity]), columns = ('Time','Height','Distance','Vx','Vy'))\n",
    "df"
   ]
  }
 ],
 "metadata": {
  "kernelspec": {
   "display_name": "Python 3.9.10 64-bit",
   "language": "python",
   "name": "python3"
  },
  "language_info": {
   "codemirror_mode": {
    "name": "ipython",
    "version": 3
   },
   "file_extension": ".py",
   "mimetype": "text/x-python",
   "name": "python",
   "nbconvert_exporter": "python",
   "pygments_lexer": "ipython3",
   "version": "3.9.10"
  },
  "orig_nbformat": 4,
  "vscode": {
   "interpreter": {
    "hash": "39d93471c5998c82c3d13dbb2daaab4e10cb62f62a9ca51be7831631ce9da74f"
   }
  }
 },
 "nbformat": 4,
 "nbformat_minor": 2
}
