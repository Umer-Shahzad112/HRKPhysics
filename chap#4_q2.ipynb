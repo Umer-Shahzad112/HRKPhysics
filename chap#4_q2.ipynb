{
 "cells": [
  {
   "cell_type": "code",
   "execution_count": 57,
   "metadata": {},
   "outputs": [],
   "source": [
    "import pandas as pd\n",
    "import numpy as np\n",
    "import matplotlib.pyplot as plt"
   ]
  },
  {
   "cell_type": "code",
   "execution_count": 58,
   "metadata": {},
   "outputs": [],
   "source": [
    "xi = x =5\n",
    "yi = y = 0\n",
    "yp = .0002\n",
    "vx = 0\n",
    "vy = 10\n",
    "dt = .001\n",
    "t = 0\n",
    "time = [t]\n",
    "xaxis = [xi]\n",
    "yaxis = [yi]\n",
    "vyaxis = [vy]\n",
    "vxaxis = [vx]"
   ]
  },
  {
   "cell_type": "code",
   "execution_count": 59,
   "metadata": {},
   "outputs": [],
   "source": [
    "def fx():\n",
    "    global xp, x, vx\n",
    "    xp = x\n",
    "    if x >= -.0001 and x<= .0001:\n",
    "        x = -xp\n",
    "    vx = vx - (10*x/(abs(x)**3))*dt\n",
    "    x = x + vx*dt\n",
    "    \n",
    "\n",
    "def fy():\n",
    "    global  yp, y, vy\n",
    "    if y >= -.0001 and y<= .0001:\n",
    "        y = -yp\n",
    "    vy = vy - 10/(y*abs(y)*dt)\n",
    "    y = y + vy*dt\n",
    "    \n",
    "    yp =y\n"
   ]
  },
  {
   "cell_type": "code",
   "execution_count": 60,
   "metadata": {},
   "outputs": [],
   "source": [
    "n = (20/dt).__round__().__int__()\n",
    "n\n",
    "for i in range(n):\n",
    "    fx()\n",
    "    fy()\n",
    "    t = t + dt\n",
    "    time.append(t)\n",
    "    xaxis.append(x)\n",
    "    yaxis.append(y)\n",
    "    vxaxis.append(vx)\n",
    "    vyaxis.append(vy)\n"
   ]
  },
  {
   "cell_type": "code",
   "execution_count": 61,
   "metadata": {},
   "outputs": [],
   "source": [
    "time_axis = np.array(time).round(2)\n",
    "x_axis = np.array(xaxis).round(2)\n",
    "y_axis = np.array(yaxis).round(2)\n",
    "xvelocity = np.array(vxaxis).round(2)\n",
    "yvelocity = np.array(vyaxis).round(2)\n"
   ]
  },
  {
   "cell_type": "code",
   "execution_count": 62,
   "metadata": {},
   "outputs": [
    {
     "data": {
      "image/png": "[encoded data removed]",
      "text/plain": [
       "<Figure size 432x288 with 1 Axes>"
      ]
     },
     "metadata": {
      "needs_background": "light"
     },
     "output_type": "display_data"
    }
   ],
   "source": [
    "plt.plot(x_axis,y_axis)\n",
    "plt.show()"
   ]
  },
  {
   "cell_type": "code",
   "execution_count": 63,
   "metadata": {},
   "outputs": [],
   "source": [
    "df = pd.DataFrame(np.column_stack([time_axis, y_axis, x_axis, xvelocity, yvelocity]), columns = ('Time','Height','Distance','Vx','Vy'))\n"
   ]
  }
 ],
 "metadata": {
  "kernelspec": {
   "display_name": "Python 3.9.10 64-bit",
   "language": "python",
   "name": "python3"
  },
  "language_info": {
   "codemirror_mode": {
    "name": "ipython",
    "version": 3
   },
   "file_extension": ".py",
   "mimetype": "text/x-python",
   "name": "python",
   "nbconvert_exporter": "python",
   "pygments_lexer": "ipython3",
   "version": "3.9.10"
  },
  "orig_nbformat": 4,
  "vscode": {
   "interpreter": {
    "hash": "39d93471c5998c82c3d13dbb2daaab4e10cb62f62a9ca51be7831631ce9da74f"
   }
  }
 },
 "nbformat": 4,
 "nbformat_minor": 2
}
